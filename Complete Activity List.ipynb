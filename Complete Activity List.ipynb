{
 "cells": [
  {
   "cell_type": "markdown",
   "metadata": {},
   "source": [
    "### Here I have included all the work that I did during this Machine Learning Course along with all the links to my Jupyter Notebook on Github"
   ]
  },
  {
   "cell_type": "markdown",
   "metadata": {},
   "source": [
    "#### Completed my Machine Learning course from coursera hosted by Stanford University with 96% grade.\n",
    "\n",
    "Link to the certificate: \n",
    "[Certificate](https://www.coursera.org/account/accomplishments/verify/F2JAEVQ7A7K7) "
   ]
  },
  {
   "cell_type": "markdown",
   "metadata": {},
   "source": [
    "##### Did some basics of python operations and created a jupytr notebook.\n",
    "Link :  [Python Basics](https://github.com/ganeshjha/JupyterNB/blob/master/Python_Basics.ipynb)"
   ]
  },
  {
   "cell_type": "markdown",
   "metadata": {},
   "source": [
    "##### Started with titanic competetion in the beginning.\n",
    "##### Link: https://github.com/ganeshjha/JupyterNB/blob/master/Titanic_main.ipynb "
   ]
  },
  {
   "cell_type": "markdown",
   "metadata": {},
   "source": [
    "#### Did some hands on other kaggle competetions like spotify \n",
    "Description: A dataset of 2017 songs with attributes from Spotify's API. Each song is labeled \"1\" meaning I like it and \"0\" for songs I don't like. I used this to data to see if I could build a classifier that could predict whether or not I would like a song.\n",
    "link to notebook: https://github.com/ganeshjha/JupyterNB/blob/master/Spotify.ipynb\n",
    "\n"
   ]
  },
  {
   "cell_type": "markdown",
   "metadata": {},
   "source": [
    "##### Fashion-MNIST is a dataset of Zalando's article images—consisting of a training set of 60,000 examples and a test set of 10,000 examples. Each example is a 28x28 grayscale image, associated with a label from 10 classes. Zalando intends Fashion-MNIST to serve as a direct drop-in replacement for the original MNIST dataset for benchmarking machine learning algorithms. It shares the same image size and structure of training and testing splits.\n",
    "\n",
    "The original MNIST dataset contains a lot of handwritten digits. Members of the AI/ML/Data Science community love this dataset and use it as a benchmark to validate their algorithms. In fact, MNIST is often the first dataset researchers try. \"If it doesn't work on MNIST, it won't work at all\", they said. \"Well, if it does work on MNIST, it may still fail on others.\"\n",
    "Zalando seeks to replace the original MNIST dataset\n",
    "##### Link to notebook: https://github.com/ganeshjha/JupyterNB/blob/master/keras_fmnist_fashion.ipynb"
   ]
  },
  {
   "cell_type": "markdown",
   "metadata": {},
   "source": [
    "#### Description: MNIST (\"Modified National Institute of Standards and Technology\") is the de facto “hello world” dataset of computer vision. Since its release in 1999, this classic dataset of handwritten images has served as the basis for benchmarking classification algorithms. As new machine learning techniques emerge, MNIST remains a reliable resource for researchers and learners alike.\n",
    "\n",
    "In this competition, your goal is to correctly identify digits from a dataset of tens of thousands of handwritten images. We’ve curated a set of tutorial-style kernels which cover everything from regression to neural networks. We encourage you to experiment with different algorithms to learn first-hand what works well and how techniques compare.\n",
    "\n",
    "Kaggle Mnist challenge: https://www.kaggle.com/c/digit-recognizer\n",
    "Implemented this classification using various algorithms like linear regression, random forst, support vector machines,neural networks using tensorflow, also did using keras library.Links to all the notebooks are given below.\n",
    "Link to my notebook: \n",
    "##### 1. Linear Model: https://github.com/ganeshjha/MNIST-Dataset-Classification/blob/master/LinearModel_GJ.ipynb\n",
    "##### 2. CNN: https://github.com/ganeshjha/MNIST-Dataset-Classification/blob/master/MNIST_Convolutional_Neural_Network.ipynb\n",
    "##### 3. Random Forest: https://github.com/ganeshjha/MNIST-Dataset-Classification/blob/master/MNIST_Random_Forest.ipynb\n",
    "##### 4. SVM: https://github.com/ganeshjha/MNIST-Dataset-Classification/blob/master/MNIST_SVM.ipynb\n",
    "##### 5. keras library: https://github.com/ganeshjha/MNIST-Dataset-Classification/blob/master/%20Deeper_CNN_MNIST.ipynb\n",
    "##### [handwritten digits](http://yann.lecun.com/exdb/mnist/)"
   ]
  },
  {
   "cell_type": "markdown",
   "metadata": {},
   "source": [
    "#### Participated in Hack Fresno.\n",
    "Won first position in health category.\n",
    "\n",
    "##### 1. Link to project: https://devpost.com/software/diabetic-retinopathy-detection\n",
    "\n",
    "##### 2. Link to notebook: https://github.com/ganeshjha/JupyterNB/blob/master/Diabetic_retinopathy_detection.ipynb        "
   ]
  },
  {
   "cell_type": "markdown",
   "metadata": {},
   "source": [
    "### Some Hands On Natural Language Processing\n",
    "Presented a notebook on SMS SPAM FILTERING USING NATURAL LANGUAGE PROCESSING:\n",
    "##### Link to notebook: https://github.com/ganeshjha/JupyterNB/blob/master/SMSFiltering_latest.ipynb"
   ]
  },
  {
   "cell_type": "markdown",
   "metadata": {},
   "source": [
    "### Discussed a comptetion \"GAL (Grasp and Lift Trial)\" as a particpation activity: \n",
    "https://www.kaggle.com/c/grasp-and-lift-eeg-detection\n",
    "\n",
    "Description: Think back to this morning: turning off the alarm, getting dressed, brushing your teeth, making coffee, drinking coffee, and locking the door as you left for work. Now imagine doing all those things again, without the use of your hands. \n",
    "\n",
    "Patients who have lost hand function due to amputation or neurological disabilities wake up to this reality everyday. Restoring a patient's ability to perform these basic activities of daily life with a brain-computer interface (BCI) prosthetic device would greatly increase their independence and quality of life. Currently, there are no realistic, affordable, or low-risk options for neurologically disabled patients to directly control external prosthetics with their brain activity."
   ]
  },
  {
   "cell_type": "markdown",
   "metadata": {},
   "source": [
    "### As a further specialisation into data science i am right now going through another course from coursera on Deep Learning.\n",
    "##### Link:  [Course Link](https://www.coursera.org/specializations/deep-learning?adgroupid=45435009512&adpostion=1t1&authMode=login&campaignid=904733485&creativeid=231631799243&device=c&devicemodel=&gclid=EAIaIQobChMI9eSI_-fr2gIVA77ACh2ZegXeEAAYASAAEgK_d_D_BwE&hide_mobile_promo&keyword=deep+learning+coursera&matchtype=b&network=g&utm_medium=sem&utm_source=gg) "
   ]
  }
 ],
 "metadata": {
  "kernelspec": {
   "display_name": "Python 3",
   "language": "python",
   "name": "python3"
  },
  "language_info": {
   "codemirror_mode": {
    "name": "ipython",
    "version": 3
   },
   "file_extension": ".py",
   "mimetype": "text/x-python",
   "name": "python",
   "nbconvert_exporter": "python",
   "pygments_lexer": "ipython3",
   "version": "3.6.3"
  }
 },
 "nbformat": 4,
 "nbformat_minor": 2
}
